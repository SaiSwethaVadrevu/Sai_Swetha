{
 "cells": [
  {
   "cell_type": "markdown",
   "id": "8632c7b2",
   "metadata": {},
   "source": [
    "# Midterm Project"
   ]
  },
  {
   "cell_type": "markdown",
   "id": "b5ad20ba",
   "metadata": {},
   "source": [
    "# Text Classification for NewsLetter Categories"
   ]
  },
  {
   "cell_type": "code",
   "execution_count": 2,
   "id": "a525b1e7",
   "metadata": {},
   "outputs": [],
   "source": [
    "import pandas as pd\n",
    "import numpy as np\n",
    "import string\n",
    "import matplotlib.pyplot as plt\n",
    "import seaborn as sns \n",
    "%matplotlib inline\n",
    "from sklearn.model_selection import train_test_split, GridSearchCV\n",
    "from sklearn.feature_extraction.text import CountVectorizer, TfidfVectorizer\n",
    "from sklearn.svm import SVC\n",
    "from sklearn.linear_model import LogisticRegression\n",
    "from sklearn.ensemble import RandomForestClassifier, GradientBoostingClassifier\n",
    "from sklearn.preprocessing import LabelEncoder\n",
    "from sklearn.metrics import accuracy_score, classification_report, confusion_matrix,f1_score\n",
    "from sklearn.pipeline import Pipeline\n",
    "from sklearn.preprocessing import StandardScaler\n",
    "from nltk.stem import PorterStemmer, WordNetLemmatizer\n",
    "from nltk.corpus import stopwords,wordnet"
   ]
  },
  {
   "cell_type": "code",
   "execution_count": 2,
   "id": "9ce3755c",
   "metadata": {},
   "outputs": [
    {
     "name": "stderr",
     "output_type": "stream",
     "text": [
      "[nltk_data] Downloading package stopwords to C:\\Users\\SAI\n",
      "[nltk_data]     SWETHA\\AppData\\Roaming\\nltk_data...\n",
      "[nltk_data]   Package stopwords is already up-to-date!\n",
      "[nltk_data] Downloading package wordnet to C:\\Users\\SAI\n",
      "[nltk_data]     SWETHA\\AppData\\Roaming\\nltk_data...\n",
      "[nltk_data]   Package wordnet is already up-to-date!\n",
      "[nltk_data] Downloading package omw-1.4 to C:\\Users\\SAI\n",
      "[nltk_data]     SWETHA\\AppData\\Roaming\\nltk_data...\n",
      "[nltk_data]   Package omw-1.4 is already up-to-date!\n"
     ]
    },
    {
     "data": {
      "text/plain": [
       "True"
      ]
     },
     "execution_count": 2,
     "metadata": {},
     "output_type": "execute_result"
    }
   ],
   "source": [
    "# Download stopwords\n",
    "import nltk\n",
    "nltk.download('stopwords')\n",
    "import nltk\n",
    "nltk.download('wordnet')\n",
    "import nltk\n",
    "nltk.download('omw-1.4')"
   ]
  },
  {
   "cell_type": "markdown",
   "id": "ffc0716b",
   "metadata": {},
   "source": [
    "## Data Collection and Cleaning"
   ]
  },
  {
   "cell_type": "code",
   "execution_count": 3,
   "id": "b21e4d02",
   "metadata": {},
   "outputs": [
    {
     "data": {
      "text/html": [
       "<div>\n",
       "<style scoped>\n",
       "    .dataframe tbody tr th:only-of-type {\n",
       "        vertical-align: middle;\n",
       "    }\n",
       "\n",
       "    .dataframe tbody tr th {\n",
       "        vertical-align: top;\n",
       "    }\n",
       "\n",
       "    .dataframe thead th {\n",
       "        text-align: right;\n",
       "    }\n",
       "</style>\n",
       "<table border=\"1\" class=\"dataframe\">\n",
       "  <thead>\n",
       "    <tr style=\"text-align: right;\">\n",
       "      <th></th>\n",
       "      <th>title</th>\n",
       "      <th>body</th>\n",
       "      <th>signature</th>\n",
       "      <th>submissiontime</th>\n",
       "      <th>category</th>\n",
       "    </tr>\n",
       "  </thead>\n",
       "  <tbody>\n",
       "    <tr>\n",
       "      <th>0</th>\n",
       "      <td>Mrs. Laurence Class</td>\n",
       "      <td>Because of the upcoming holiday, we will be re...</td>\n",
       "      <td>Jaslynn Laurence</td>\n",
       "      <td>11/18/15 9:26 AM</td>\n",
       "      <td>ANNOUNCEMENTS</td>\n",
       "    </tr>\n",
       "    <tr>\n",
       "      <th>1</th>\n",
       "      <td>Mr. Valle's Winter Break Packets (Cornell/Hamp...</td>\n",
       "      <td>All my Cornell, Hampton, and Princeton student...</td>\n",
       "      <td>Mr. Sam Valle</td>\n",
       "      <td>12/16/15 9:26 PM</td>\n",
       "      <td>ANNOUNCEMENTS</td>\n",
       "    </tr>\n",
       "    <tr>\n",
       "      <th>2</th>\n",
       "      <td>Hours of Operation</td>\n",
       "      <td>Parents/Guardians,    We will gladly assist yo...</td>\n",
       "      <td>Ms. Ellis</td>\n",
       "      <td>11/18/15 3:30 PM</td>\n",
       "      <td>ANNOUNCEMENTS</td>\n",
       "    </tr>\n",
       "    <tr>\n",
       "      <th>3</th>\n",
       "      <td>Character Education</td>\n",
       "      <td>CMIT South scholars will continue to work on v...</td>\n",
       "      <td>Ch.Ed. Team  Room 163</td>\n",
       "      <td>11/15/15 4:49 PM</td>\n",
       "      <td>ANNOUNCEMENTS</td>\n",
       "    </tr>\n",
       "    <tr>\n",
       "      <th>4</th>\n",
       "      <td>CMIT Students Connecting with Students Around ...</td>\n",
       "      <td>A couple of classes have had the opportunity t...</td>\n",
       "      <td>Srta. Dickerson</td>\n",
       "      <td>11/16/15 5:21 AM</td>\n",
       "      <td>ANNOUNCEMENTS</td>\n",
       "    </tr>\n",
       "    <tr>\n",
       "      <th>...</th>\n",
       "      <td>...</td>\n",
       "      <td>...</td>\n",
       "      <td>...</td>\n",
       "      <td>...</td>\n",
       "      <td>...</td>\n",
       "    </tr>\n",
       "    <tr>\n",
       "      <th>19602</th>\n",
       "      <td>Ms. Coholic's Science Classes</td>\n",
       "      <td>Hello all!  This week, BioGeoChem students wil...</td>\n",
       "      <td>Suzanne Coholic High School Science Teacher  S...</td>\n",
       "      <td>1/11/23 10:28 AM</td>\n",
       "      <td>ANNOUNCEMENTS</td>\n",
       "    </tr>\n",
       "    <tr>\n",
       "      <th>19603</th>\n",
       "      <td>AP Exams</td>\n",
       "      <td>Clock is ticking and we have four months until...</td>\n",
       "      <td>Nabil Siddiqui</td>\n",
       "      <td>1/13/23 9:43 AM</td>\n",
       "      <td>ANNOUNCEMENTS</td>\n",
       "    </tr>\n",
       "    <tr>\n",
       "      <th>19604</th>\n",
       "      <td>Ever thought of becoming a Software Engineer?</td>\n",
       "      <td>This after school club can benefit all the com...</td>\n",
       "      <td>Nabil Siddiqui</td>\n",
       "      <td>1/13/23 9:49 AM</td>\n",
       "      <td>CLUBS</td>\n",
       "    </tr>\n",
       "    <tr>\n",
       "      <th>19605</th>\n",
       "      <td>Last Call! Women's Lacrosse Interest</td>\n",
       "      <td>Last Call! The Women's Lacrosse Program is hav...</td>\n",
       "      <td>Serey Sok CMIT Women's Lacrosse &amp; Women's Socc...</td>\n",
       "      <td>1/15/23 8:29 PM</td>\n",
       "      <td>CLUBS</td>\n",
       "    </tr>\n",
       "    <tr>\n",
       "      <th>19606</th>\n",
       "      <td>Clarinetists, Flautist, Violinist, Violists, ...</td>\n",
       "      <td>ORCHESTRA/CONCERT CLUB   We are doing a mid ye...</td>\n",
       "      <td>Russell Carter</td>\n",
       "      <td>2/6/23 12:54 PM</td>\n",
       "      <td>CLUBS</td>\n",
       "    </tr>\n",
       "  </tbody>\n",
       "</table>\n",
       "<p>19607 rows × 5 columns</p>\n",
       "</div>"
      ],
      "text/plain": [
       "                                                   title  \\\n",
       "0                                    Mrs. Laurence Class   \n",
       "1      Mr. Valle's Winter Break Packets (Cornell/Hamp...   \n",
       "2                                     Hours of Operation   \n",
       "3                                    Character Education   \n",
       "4      CMIT Students Connecting with Students Around ...   \n",
       "...                                                  ...   \n",
       "19602                      Ms. Coholic's Science Classes   \n",
       "19603                                          AP Exams    \n",
       "19604      Ever thought of becoming a Software Engineer?   \n",
       "19605               Last Call! Women's Lacrosse Interest   \n",
       "19606   Clarinetists, Flautist, Violinist, Violists, ...   \n",
       "\n",
       "                                                    body  \\\n",
       "0      Because of the upcoming holiday, we will be re...   \n",
       "1      All my Cornell, Hampton, and Princeton student...   \n",
       "2      Parents/Guardians,    We will gladly assist yo...   \n",
       "3      CMIT South scholars will continue to work on v...   \n",
       "4      A couple of classes have had the opportunity t...   \n",
       "...                                                  ...   \n",
       "19602  Hello all!  This week, BioGeoChem students wil...   \n",
       "19603  Clock is ticking and we have four months until...   \n",
       "19604  This after school club can benefit all the com...   \n",
       "19605  Last Call! The Women's Lacrosse Program is hav...   \n",
       "19606  ORCHESTRA/CONCERT CLUB   We are doing a mid ye...   \n",
       "\n",
       "                                               signature    submissiontime  \\\n",
       "0                                       Jaslynn Laurence  11/18/15 9:26 AM   \n",
       "1                                          Mr. Sam Valle  12/16/15 9:26 PM   \n",
       "2                                              Ms. Ellis  11/18/15 3:30 PM   \n",
       "3                                  Ch.Ed. Team  Room 163  11/15/15 4:49 PM   \n",
       "4                                        Srta. Dickerson  11/16/15 5:21 AM   \n",
       "...                                                  ...               ...   \n",
       "19602  Suzanne Coholic High School Science Teacher  S...  1/11/23 10:28 AM   \n",
       "19603                                     Nabil Siddiqui   1/13/23 9:43 AM   \n",
       "19604                                     Nabil Siddiqui   1/13/23 9:49 AM   \n",
       "19605  Serey Sok CMIT Women's Lacrosse & Women's Socc...   1/15/23 8:29 PM   \n",
       "19606                                     Russell Carter   2/6/23 12:54 PM   \n",
       "\n",
       "            category  \n",
       "0      ANNOUNCEMENTS  \n",
       "1      ANNOUNCEMENTS  \n",
       "2      ANNOUNCEMENTS  \n",
       "3      ANNOUNCEMENTS  \n",
       "4      ANNOUNCEMENTS  \n",
       "...              ...  \n",
       "19602  ANNOUNCEMENTS  \n",
       "19603  ANNOUNCEMENTS  \n",
       "19604          CLUBS  \n",
       "19605          CLUBS  \n",
       "19606          CLUBS  \n",
       "\n",
       "[19607 rows x 5 columns]"
      ]
     },
     "execution_count": 3,
     "metadata": {},
     "output_type": "execute_result"
    }
   ],
   "source": [
    "df = pd.read_csv(\"https://raw.githubusercontent.com/msaricaumbc/DS_data/master/ds602/dataset_newsletter.csv\")\n",
    "df = df.drop('Unnamed: 0', axis=1)\n",
    "df"
   ]
  },
  {
   "cell_type": "code",
   "execution_count": 66,
   "id": "08c03966",
   "metadata": {},
   "outputs": [
    {
     "data": {
      "text/plain": [
       "title              10\n",
       "body                3\n",
       "signature         400\n",
       "submissiontime      0\n",
       "category            0\n",
       "dtype: int64"
      ]
     },
     "execution_count": 66,
     "metadata": {},
     "output_type": "execute_result"
    }
   ],
   "source": [
    "#Checking for null values\n",
    "df.isnull().sum()"
   ]
  },
  {
   "cell_type": "code",
   "execution_count": 61,
   "id": "78c2ab56",
   "metadata": {},
   "outputs": [],
   "source": [
    "# Fill null values in 'signature', 'body' and 'title' columns with a default value\n",
    "df['signature'].fillna('Unknown', inplace=True)\n",
    "df['title'].fillna('No Title', inplace=True)\n",
    "df['body'].fillna('No body', inplace=True)"
   ]
  },
  {
   "cell_type": "code",
   "execution_count": 62,
   "id": "2d2185dc",
   "metadata": {},
   "outputs": [],
   "source": [
    "# Convert text to lowercase\n",
    "df[\"body\"] = df[\"body\"].str.lower()"
   ]
  },
  {
   "cell_type": "code",
   "execution_count": 63,
   "id": "f75625dd",
   "metadata": {},
   "outputs": [
    {
     "name": "stderr",
     "output_type": "stream",
     "text": [
      "C:\\Users\\SAI SWETHA\\anaconda3\\lib\\site-packages\\seaborn\\_decorators.py:36: FutureWarning: Pass the following variable as a keyword arg: x. From version 0.12, the only valid positional argument will be `data`, and passing other arguments without an explicit keyword will result in an error or misinterpretation.\n",
      "  warnings.warn(\n"
     ]
    },
    {
     "data": {
      "text/plain": [
       "Text(0.5, 1.0, 'CountPlot')"
      ]
     },
     "execution_count": 63,
     "metadata": {},
     "output_type": "execute_result"
    },
    {
     "data": {
      "image/png": "[encoded data removed]",
      "text/plain": [
       "<Figure size 1800x720 with 1 Axes>"
      ]
     },
     "metadata": {
      "needs_background": "light"
     },
     "output_type": "display_data"
    }
   ],
   "source": [
    "#Plotting count plot\n",
    "fig, ax = plt.subplots(figsize=(25,10))\n",
    "sns.countplot(df['category'])\n",
    "plt.xlabel('Category')\n",
    "plt.title('CountPlot')"
   ]
  },
  {
   "cell_type": "markdown",
   "id": "cf6bb5c7",
   "metadata": {},
   "source": [
    "## Feature Engineering"
   ]
  },
  {
   "cell_type": "markdown",
   "id": "763abaa7",
   "metadata": {},
   "source": [
    "Performed feature engineering by removing stop words and punctuations from the body column and preprocessing the data using lemmatization. This can help to reduce the sparsity of the vocabulary and improve the accuracy of text classification."
   ]
  },
  {
   "cell_type": "code",
   "execution_count": 6,
   "id": "54cba923",
   "metadata": {},
   "outputs": [],
   "source": [
    "# Remove punctuations from \"body\"\n",
    "translator = str.maketrans(\"\", \"\", string.punctuation)\n",
    "df[\"body\"] = df[\"body\"].apply(lambda x: x.translate(translator))"
   ]
  },
  {
   "cell_type": "code",
   "execution_count": 7,
   "id": "b4957fae",
   "metadata": {},
   "outputs": [],
   "source": [
    "# Preprocess the text data using lemmatization and stopword removal\n",
    "stop_words = stopwords.words('english')\n",
    "lemmatizer = WordNetLemmatizer()\n",
    "df['body'] = df['body'].apply(lambda x: ' '.join([lemmatizer.lemmatize(word) for word in x.split() if word not in stop_words]))"
   ]
  },
  {
   "cell_type": "code",
   "execution_count": 8,
   "id": "86961bd4",
   "metadata": {},
   "outputs": [],
   "source": [
    "le = LabelEncoder()  \n",
    "df[\"category\"] = le.fit_transform(df[\"category\"])"
   ]
  },
  {
   "cell_type": "markdown",
   "id": "9d9a4581",
   "metadata": {},
   "source": [
    "## Train and Test Split"
   ]
  },
  {
   "cell_type": "code",
   "execution_count": 9,
   "id": "353aade7",
   "metadata": {},
   "outputs": [],
   "source": [
    "# Split the dataset into training and testing sets\n",
    "X = df['body']\n",
    "y = df['category']\n",
    "X_train, X_test, y_train, y_test = train_test_split(X, y, test_size=0.2, random_state=42)"
   ]
  },
  {
   "cell_type": "markdown",
   "id": "f3e537cf",
   "metadata": {},
   "source": [
    "## Creating Pipelines "
   ]
  },
  {
   "cell_type": "code",
   "execution_count": 10,
   "id": "bebe05bd",
   "metadata": {},
   "outputs": [],
   "source": [
    "# SVM model with linear kernel and CountVectorizer\n",
    "svm_pipeline = Pipeline([\n",
    "    ('vectorizer', CountVectorizer()),\n",
    "    ('classifier', SVC(kernel='linear'))\n",
    "])"
   ]
  },
  {
   "cell_type": "code",
   "execution_count": 11,
   "id": "b11690e4",
   "metadata": {},
   "outputs": [],
   "source": [
    "# Random Forest model with TfidfVectorizer\n",
    "rf_pipeline = Pipeline([\n",
    "    ('vectorizer', TfidfVectorizer()),\n",
    "    ('classifier', RandomForestClassifier(n_estimators=200, random_state=42))\n",
    "])\n"
   ]
  },
  {
   "cell_type": "code",
   "execution_count": 12,
   "id": "519083b7",
   "metadata": {},
   "outputs": [],
   "source": [
    "# Gradient Boosting model with TfidfVectorizer\n",
    "gb_pipeline = Pipeline([\n",
    "    ('vectorizer', TfidfVectorizer()),\n",
    "    ('classifier', GradientBoostingClassifier(n_estimators=200, random_state=42))\n",
    "])\n"
   ]
  },
  {
   "cell_type": "code",
   "execution_count": 13,
   "id": "a3c9994c",
   "metadata": {},
   "outputs": [],
   "source": [
    "# Logistic Regression model with TfidfVectorizer\n",
    "lr_pipeline = Pipeline([\n",
    "    ('vectorizer', TfidfVectorizer()),\n",
    "    ('classifier', LogisticRegression(random_state=42))\n",
    "])"
   ]
  },
  {
   "cell_type": "code",
   "execution_count": 14,
   "id": "9b61c02d",
   "metadata": {},
   "outputs": [],
   "source": [
    "# List of pipelines for easy iteration\n",
    "pipelines = [svm_pipeline, rf_pipeline, gb_pipeline, lr_pipeline]"
   ]
  },
  {
   "cell_type": "markdown",
   "id": "0ba1d43f",
   "metadata": {},
   "source": [
    "## Model Fitting"
   ]
  },
  {
   "cell_type": "markdown",
   "id": "1989e95b",
   "metadata": {},
   "source": [
    "### Support Vector Machine (SVM) Model"
   ]
  },
  {
   "cell_type": "code",
   "execution_count": 15,
   "id": "52e5069b",
   "metadata": {},
   "outputs": [
    {
     "data": {
      "text/plain": [
       "Pipeline(steps=[('vectorizer', CountVectorizer()),\n",
       "                ('classifier', SVC(kernel='linear'))])"
      ]
     },
     "execution_count": 15,
     "metadata": {},
     "output_type": "execute_result"
    }
   ],
   "source": [
    "svm_pipeline.fit(X_train, y_train)"
   ]
  },
  {
   "cell_type": "code",
   "execution_count": 16,
   "id": "7bed7fdd",
   "metadata": {},
   "outputs": [],
   "source": [
    "# Predictions on test set\n",
    "y_pred = svm_pipeline.predict(X_test)"
   ]
  },
  {
   "cell_type": "code",
   "execution_count": 17,
   "id": "8d70aded",
   "metadata": {},
   "outputs": [
    {
     "name": "stdout",
     "output_type": "stream",
     "text": [
      "Accuracy: 0.7006629270780215\n"
     ]
    }
   ],
   "source": [
    "# Evaluate the accuracy of the model\n",
    "accuracy = accuracy_score(y_test, y_pred)\n",
    "print(\"Accuracy:\", accuracy)"
   ]
  },
  {
   "cell_type": "code",
   "execution_count": 18,
   "id": "5a0f80f7",
   "metadata": {},
   "outputs": [
    {
     "name": "stdout",
     "output_type": "stream",
     "text": [
      "              precision    recall  f1-score   support\n",
      "\n",
      "           0       0.00      0.00      0.00         4\n",
      "           1       0.76      0.82      0.79      2105\n",
      "           2       0.75      0.51      0.61        41\n",
      "           3       0.61      0.53      0.57       693\n",
      "           4       0.72      0.59      0.65        58\n",
      "           5       0.73      0.73      0.73        11\n",
      "           6       0.40      0.17      0.24        12\n",
      "           7       0.24      0.20      0.22        75\n",
      "           8       0.71      0.66      0.68       303\n",
      "           9       0.00      0.00      0.00         1\n",
      "          10       0.61      0.59      0.60       614\n",
      "          11       0.75      0.60      0.67         5\n",
      "\n",
      "    accuracy                           0.70      3922\n",
      "   macro avg       0.52      0.45      0.48      3922\n",
      "weighted avg       0.69      0.70      0.70      3922\n",
      "\n"
     ]
    },
    {
     "name": "stderr",
     "output_type": "stream",
     "text": [
      "C:\\Users\\SAI SWETHA\\anaconda3\\lib\\site-packages\\sklearn\\metrics\\_classification.py:1318: UndefinedMetricWarning: Precision and F-score are ill-defined and being set to 0.0 in labels with no predicted samples. Use `zero_division` parameter to control this behavior.\n",
      "  _warn_prf(average, modifier, msg_start, len(result))\n",
      "C:\\Users\\SAI SWETHA\\anaconda3\\lib\\site-packages\\sklearn\\metrics\\_classification.py:1318: UndefinedMetricWarning: Precision and F-score are ill-defined and being set to 0.0 in labels with no predicted samples. Use `zero_division` parameter to control this behavior.\n",
      "  _warn_prf(average, modifier, msg_start, len(result))\n",
      "C:\\Users\\SAI SWETHA\\anaconda3\\lib\\site-packages\\sklearn\\metrics\\_classification.py:1318: UndefinedMetricWarning: Precision and F-score are ill-defined and being set to 0.0 in labels with no predicted samples. Use `zero_division` parameter to control this behavior.\n",
      "  _warn_prf(average, modifier, msg_start, len(result))\n"
     ]
    }
   ],
   "source": [
    "# Print classification report and confusion matrix\n",
    "print(classification_report(y_test, y_pred))"
   ]
  },
  {
   "cell_type": "code",
   "execution_count": 19,
   "id": "35adfe71",
   "metadata": {},
   "outputs": [],
   "source": [
    "# Dictionary of pipeline parameters to tune\n",
    "params = {\n",
    "    'vectorizer__max_features': [5000, 10000, 20000],\n",
    "    'vectorizer__ngram_range': [(1,1), (1,2)],\n",
    "    'classifier__C': [0.1, 1, 10],\n",
    "    'classifier__gamma': [0.1, 1, 10]\n",
    "}"
   ]
  },
  {
   "cell_type": "code",
   "execution_count": 20,
   "id": "cb18f754",
   "metadata": {},
   "outputs": [],
   "source": [
    "# Create a GridSearchCV object\n",
    "grid_search = GridSearchCV(svm_pipeline, params)"
   ]
  },
  {
   "cell_type": "code",
   "execution_count": 21,
   "id": "4a2c70a1",
   "metadata": {},
   "outputs": [
    {
     "name": "stderr",
     "output_type": "stream",
     "text": [
      "C:\\Users\\SAI SWETHA\\anaconda3\\lib\\site-packages\\sklearn\\model_selection\\_split.py:676: UserWarning: The least populated class in y has only 2 members, which is less than n_splits=5.\n",
      "  warnings.warn(\n"
     ]
    },
    {
     "data": {
      "text/plain": [
       "GridSearchCV(estimator=Pipeline(steps=[('vectorizer', CountVectorizer()),\n",
       "                                       ('classifier', SVC(kernel='linear'))]),\n",
       "             param_grid={'classifier__C': [0.1, 1, 10],\n",
       "                         'classifier__gamma': [0.1, 1, 10],\n",
       "                         'vectorizer__max_features': [5000, 10000, 20000],\n",
       "                         'vectorizer__ngram_range': [(1, 1), (1, 2)]})"
      ]
     },
     "execution_count": 21,
     "metadata": {},
     "output_type": "execute_result"
    }
   ],
   "source": [
    "# Fit the grid search object to the data\n",
    "grid_search.fit(X_train, y_train)"
   ]
  },
  {
   "cell_type": "code",
   "execution_count": 22,
   "id": "0b59bc20",
   "metadata": {},
   "outputs": [
    {
     "name": "stdout",
     "output_type": "stream",
     "text": [
      "Best parameters found by GridSearchCV: {'classifier__C': 0.1, 'classifier__gamma': 0.1, 'vectorizer__max_features': 20000, 'vectorizer__ngram_range': (1, 2)}\n"
     ]
    }
   ],
   "source": [
    "# Print the best parameters found by GridSearchCV\n",
    "print(\"Best parameters found by GridSearchCV:\", grid_search.best_params_)"
   ]
  },
  {
   "cell_type": "code",
   "execution_count": 23,
   "id": "335eda5e",
   "metadata": {},
   "outputs": [],
   "source": [
    "# Predict on the test data with the best model\n",
    "y_pred_grid = grid_search.predict(X_test)"
   ]
  },
  {
   "cell_type": "code",
   "execution_count": 24,
   "id": "f6fe3a85",
   "metadata": {},
   "outputs": [
    {
     "name": "stdout",
     "output_type": "stream",
     "text": [
      "Accuracy: 0.7172361040285569\n"
     ]
    }
   ],
   "source": [
    "# Evaluate the accuracy of the best model\n",
    "print(\"Accuracy:\", accuracy_score(y_test, y_pred_grid))"
   ]
  },
  {
   "cell_type": "markdown",
   "id": "6d88fb41",
   "metadata": {},
   "source": [
    "### Random Forest Model"
   ]
  },
  {
   "cell_type": "code",
   "execution_count": 25,
   "id": "6db4ee3b",
   "metadata": {},
   "outputs": [
    {
     "data": {
      "text/plain": [
       "Pipeline(steps=[('vectorizer', TfidfVectorizer()),\n",
       "                ('classifier',\n",
       "                 RandomForestClassifier(n_estimators=200, random_state=42))])"
      ]
     },
     "execution_count": 25,
     "metadata": {},
     "output_type": "execute_result"
    }
   ],
   "source": [
    "rf_pipeline.fit(X_train, y_train)  "
   ]
  },
  {
   "cell_type": "code",
   "execution_count": 26,
   "id": "ee817398",
   "metadata": {},
   "outputs": [],
   "source": [
    "# Predictions on test set\n",
    "y_pred_rf = rf_pipeline.predict(X_test)"
   ]
  },
  {
   "cell_type": "code",
   "execution_count": 27,
   "id": "787eabe0",
   "metadata": {},
   "outputs": [
    {
     "name": "stdout",
     "output_type": "stream",
     "text": [
      "Accuracy: 0.7009178990311066\n"
     ]
    }
   ],
   "source": [
    "# Evaluate the accuracy of the model\n",
    "print(\"Accuracy:\", accuracy_score(y_test, y_pred_rf))"
   ]
  },
  {
   "cell_type": "code",
   "execution_count": 28,
   "id": "bbc40c2b",
   "metadata": {},
   "outputs": [
    {
     "name": "stdout",
     "output_type": "stream",
     "text": [
      "              precision    recall  f1-score   support\n",
      "\n",
      "           0       0.00      0.00      0.00         4\n",
      "           1       0.68      0.96      0.79      2105\n",
      "           2       1.00      0.17      0.29        41\n",
      "           3       0.76      0.33      0.46       693\n",
      "           4       1.00      0.21      0.34        58\n",
      "           5       1.00      0.64      0.78        11\n",
      "           6       0.50      0.08      0.14        12\n",
      "           7       0.30      0.04      0.07        75\n",
      "           8       0.88      0.57      0.69       303\n",
      "           9       0.00      0.00      0.00         1\n",
      "          10       0.75      0.49      0.59       614\n",
      "          11       0.50      0.20      0.29         5\n",
      "\n",
      "    accuracy                           0.70      3922\n",
      "   macro avg       0.61      0.31      0.37      3922\n",
      "weighted avg       0.72      0.70      0.67      3922\n",
      "\n"
     ]
    },
    {
     "name": "stderr",
     "output_type": "stream",
     "text": [
      "C:\\Users\\SAI SWETHA\\anaconda3\\lib\\site-packages\\sklearn\\metrics\\_classification.py:1318: UndefinedMetricWarning: Precision and F-score are ill-defined and being set to 0.0 in labels with no predicted samples. Use `zero_division` parameter to control this behavior.\n",
      "  _warn_prf(average, modifier, msg_start, len(result))\n",
      "C:\\Users\\SAI SWETHA\\anaconda3\\lib\\site-packages\\sklearn\\metrics\\_classification.py:1318: UndefinedMetricWarning: Precision and F-score are ill-defined and being set to 0.0 in labels with no predicted samples. Use `zero_division` parameter to control this behavior.\n",
      "  _warn_prf(average, modifier, msg_start, len(result))\n",
      "C:\\Users\\SAI SWETHA\\anaconda3\\lib\\site-packages\\sklearn\\metrics\\_classification.py:1318: UndefinedMetricWarning: Precision and F-score are ill-defined and being set to 0.0 in labels with no predicted samples. Use `zero_division` parameter to control this behavior.\n",
      "  _warn_prf(average, modifier, msg_start, len(result))\n"
     ]
    }
   ],
   "source": [
    "# Print classification report and confusion matrix\n",
    "print(classification_report(y_test, y_pred_rf))"
   ]
  },
  {
   "cell_type": "markdown",
   "id": "ade7f942",
   "metadata": {},
   "source": [
    "### Gradient Boosting Model"
   ]
  },
  {
   "cell_type": "code",
   "execution_count": 42,
   "id": "7cc19e6c",
   "metadata": {},
   "outputs": [
    {
     "data": {
      "text/plain": [
       "Pipeline(steps=[('vectorizer', TfidfVectorizer()),\n",
       "                ('classifier',\n",
       "                 GradientBoostingClassifier(n_estimators=200,\n",
       "                                            random_state=42))])"
      ]
     },
     "execution_count": 42,
     "metadata": {},
     "output_type": "execute_result"
    }
   ],
   "source": [
    "gb_pipeline.fit(X_train, y_train)"
   ]
  },
  {
   "cell_type": "code",
   "execution_count": 44,
   "id": "be5539df",
   "metadata": {},
   "outputs": [],
   "source": [
    "# Predictions on test set\n",
    "y_pred_gb = gb_pipeline.predict(X_test)"
   ]
  },
  {
   "cell_type": "code",
   "execution_count": 45,
   "id": "afc075d3",
   "metadata": {},
   "outputs": [
    {
     "name": "stdout",
     "output_type": "stream",
     "text": [
      "Accuracy: 0.676185619581846\n"
     ]
    }
   ],
   "source": [
    "# Evaluate the accuracy of the model\n",
    "print(\"Accuracy:\", accuracy_score(y_test, y_pred_gb))"
   ]
  },
  {
   "cell_type": "code",
   "execution_count": 46,
   "id": "d9d56c2e",
   "metadata": {},
   "outputs": [
    {
     "name": "stdout",
     "output_type": "stream",
     "text": [
      "              precision    recall  f1-score   support\n",
      "\n",
      "           0       0.00      0.00      0.00         4\n",
      "           1       0.67      0.92      0.78      2105\n",
      "           2       0.68      0.46      0.55        41\n",
      "           3       0.75      0.31      0.44       693\n",
      "           4       0.57      0.47      0.51        58\n",
      "           5       0.78      0.64      0.70        11\n",
      "           6       0.23      0.25      0.24        12\n",
      "           7       0.29      0.16      0.21        75\n",
      "           8       0.71      0.63      0.67       303\n",
      "           9       0.00      0.00      0.00         1\n",
      "          10       0.72      0.39      0.51       614\n",
      "          11       0.22      0.40      0.29         5\n",
      "\n",
      "    accuracy                           0.68      3922\n",
      "   macro avg       0.47      0.39      0.41      3922\n",
      "weighted avg       0.69      0.68      0.65      3922\n",
      "\n"
     ]
    }
   ],
   "source": [
    "# Print classification report and confusion matrix\n",
    "print(classification_report(y_test, y_pred_gb))"
   ]
  },
  {
   "cell_type": "markdown",
   "id": "225161b7",
   "metadata": {},
   "source": [
    "### Logistic Regression Model"
   ]
  },
  {
   "cell_type": "code",
   "execution_count": 56,
   "id": "ea1b84f8",
   "metadata": {},
   "outputs": [
    {
     "name": "stderr",
     "output_type": "stream",
     "text": [
      "C:\\Users\\SAI SWETHA\\anaconda3\\lib\\site-packages\\sklearn\\linear_model\\_logistic.py:814: ConvergenceWarning: lbfgs failed to converge (status=1):\n",
      "STOP: TOTAL NO. of ITERATIONS REACHED LIMIT.\n",
      "\n",
      "Increase the number of iterations (max_iter) or scale the data as shown in:\n",
      "    https://scikit-learn.org/stable/modules/preprocessing.html\n",
      "Please also refer to the documentation for alternative solver options:\n",
      "    https://scikit-learn.org/stable/modules/linear_model.html#logistic-regression\n",
      "  n_iter_i = _check_optimize_result(\n"
     ]
    },
    {
     "data": {
      "text/plain": [
       "Pipeline(steps=[('vectorizer', TfidfVectorizer()),\n",
       "                ('classifier', LogisticRegression(random_state=42))])"
      ]
     },
     "execution_count": 56,
     "metadata": {},
     "output_type": "execute_result"
    }
   ],
   "source": [
    "lr_pipeline.fit(X_train, y_train)"
   ]
  },
  {
   "cell_type": "code",
   "execution_count": 57,
   "id": "727ebdbd",
   "metadata": {},
   "outputs": [],
   "source": [
    "# Predictions on test set\n",
    "y_pred_lr = lr_pipeline.predict(X_test)"
   ]
  },
  {
   "cell_type": "code",
   "execution_count": 58,
   "id": "ff3319a4",
   "metadata": {},
   "outputs": [
    {
     "name": "stdout",
     "output_type": "stream",
     "text": [
      "Accuracy: 0.6886792452830188\n"
     ]
    }
   ],
   "source": [
    "# Evaluate the accuracy of the model\n",
    "print(\"Accuracy:\", accuracy_score(y_test, y_pred_lr))"
   ]
  },
  {
   "cell_type": "code",
   "execution_count": 59,
   "id": "74f7d279",
   "metadata": {},
   "outputs": [
    {
     "name": "stdout",
     "output_type": "stream",
     "text": [
      "              precision    recall  f1-score   support\n",
      "\n",
      "           0       0.00      0.00      0.00         4\n",
      "           1       0.70      0.89      0.79      2105\n",
      "           2       0.64      0.17      0.27        41\n",
      "           3       0.65      0.42      0.51       693\n",
      "           4       0.82      0.24      0.37        58\n",
      "           5       1.00      0.09      0.17        11\n",
      "           6       0.00      0.00      0.00        12\n",
      "           7       0.67      0.03      0.05        75\n",
      "           8       0.74      0.57      0.64       303\n",
      "           9       0.00      0.00      0.00         1\n",
      "          10       0.63      0.54      0.58       614\n",
      "          11       0.00      0.00      0.00         5\n",
      "\n",
      "    accuracy                           0.69      3922\n",
      "   macro avg       0.49      0.25      0.28      3922\n",
      "weighted avg       0.68      0.69      0.66      3922\n",
      "\n"
     ]
    },
    {
     "name": "stderr",
     "output_type": "stream",
     "text": [
      "C:\\Users\\SAI SWETHA\\anaconda3\\lib\\site-packages\\sklearn\\metrics\\_classification.py:1318: UndefinedMetricWarning: Precision and F-score are ill-defined and being set to 0.0 in labels with no predicted samples. Use `zero_division` parameter to control this behavior.\n",
      "  _warn_prf(average, modifier, msg_start, len(result))\n",
      "C:\\Users\\SAI SWETHA\\anaconda3\\lib\\site-packages\\sklearn\\metrics\\_classification.py:1318: UndefinedMetricWarning: Precision and F-score are ill-defined and being set to 0.0 in labels with no predicted samples. Use `zero_division` parameter to control this behavior.\n",
      "  _warn_prf(average, modifier, msg_start, len(result))\n",
      "C:\\Users\\SAI SWETHA\\anaconda3\\lib\\site-packages\\sklearn\\metrics\\_classification.py:1318: UndefinedMetricWarning: Precision and F-score are ill-defined and being set to 0.0 in labels with no predicted samples. Use `zero_division` parameter to control this behavior.\n",
      "  _warn_prf(average, modifier, msg_start, len(result))\n"
     ]
    }
   ],
   "source": [
    "# Print classification report and confusion matrix\n",
    "print(classification_report(y_test, y_pred_lr))"
   ]
  },
  {
   "cell_type": "code",
   "execution_count": null,
   "id": "8d67ab88",
   "metadata": {},
   "outputs": [],
   "source": []
  }
 ],
 "metadata": {
  "kernelspec": {
   "display_name": "Python 3 (ipykernel)",
   "language": "python",
   "name": "python3"
  },
  "language_info": {
   "codemirror_mode": {
    "name": "ipython",
    "version": 3
   },
   "file_extension": ".py",
   "mimetype": "text/x-python",
   "name": "python",
   "nbconvert_exporter": "python",
   "pygments_lexer": "ipython3",
   "version": "3.9.12"
  }
 },
 "nbformat": 4,
 "nbformat_minor": 5
}
